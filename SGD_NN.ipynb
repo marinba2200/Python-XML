{
 "cells": [
  {
   "cell_type": "code",
   "execution_count": 1,
   "metadata": {},
   "outputs": [
    {
     "name": "stdout",
     "output_type": "stream",
     "text": [
      "env: KERAS_BACKEND=tensorflow\n"
     ]
    }
   ],
   "source": [
    "%env KERAS_BACKEND=tensorflow \n",
    "#魔術指令，設定環境變數"
   ]
  },
  {
   "cell_type": "code",
   "execution_count": 2,
   "metadata": {},
   "outputs": [],
   "source": [
    "%matplotlib inline\n",
    "import numpy as np\n",
    "import matplotlib.pyplot as plt"
   ]
  },
  {
   "cell_type": "code",
   "execution_count": 3,
   "metadata": {},
   "outputs": [
    {
     "name": "stderr",
     "output_type": "stream",
     "text": [
      "Using TensorFlow backend.\n"
     ]
    }
   ],
   "source": [
    "from keras.datasets import mnist \n",
    "#mnist為手寫數字圖庫，內含六萬筆train與一萬筆test資料"
   ]
  },
  {
   "cell_type": "code",
   "execution_count": 4,
   "metadata": {},
   "outputs": [],
   "source": [
    "(x_train , y_train) , (x_test , y_test) = mnist.load_data() #取得資料"
   ]
  },
  {
   "cell_type": "code",
   "execution_count": 5,
   "metadata": {},
   "outputs": [
    {
     "data": {
      "text/plain": [
       "60000"
      ]
     },
     "execution_count": 5,
     "metadata": {},
     "output_type": "execute_result"
    }
   ],
   "source": [
    "len(x_train) #確認筆數"
   ]
  },
  {
   "cell_type": "code",
   "execution_count": 6,
   "metadata": {},
   "outputs": [
    {
     "data": {
      "text/plain": [
       "(28, 28)"
      ]
     },
     "execution_count": 6,
     "metadata": {},
     "output_type": "execute_result"
    }
   ],
   "source": [
    "x_train[9000].shape #確認矩陣大小"
   ]
  },
  {
   "cell_type": "code",
   "execution_count": 7,
   "metadata": {},
   "outputs": [
    {
     "data": {
      "text/plain": [
       "array([[  0,   0,   0,   0,   0,   0,   0,   0,   0,   0,   0,   0,   0,\n",
       "          0,   0,   0,   0,   0,   0,   0,   0,   0,   0,   0,   0,   0,\n",
       "          0,   0],\n",
       "       [  0,   0,   0,   0,   0,   0,   0,   0,   0,   0,   0,   0,   0,\n",
       "          0,   0,   0,   0,   0,   0,   0,   0,   0,   0,   0,   0,   0,\n",
       "          0,   0],\n",
       "       [  0,   0,   0,   0,   0,   0,   0,   0,   0,   0,   0,   0,   0,\n",
       "          0,   0,   0,   0,   0,   0,   0,   0,   0,   0,   0,   0,   0,\n",
       "          0,   0],\n",
       "       [  0,   0,   0,   0,   0,   0,   0,   0,   0,   0,   0,   0,   0,\n",
       "          0,   0,   0,   0,   0,   0,   0,   0,   0,   0,   0,   0,   0,\n",
       "          0,   0],\n",
       "       [  0,   0,   0,   0,   0,   0,   0,   0,  41, 239, 253, 253, 253,\n",
       "        174,   0,   0,   0,   0,   0,   0,   0,   0,   0,   0,   0,   0,\n",
       "          0,   0],\n",
       "       [  0,   0,   0,   0,   0,   0,   0,   0, 175, 251, 251, 251, 251,\n",
       "        173,   0,   0,   0,   0,   0,   0,   0,   0,   0,   0,   0,   0,\n",
       "          0,   0],\n",
       "       [  0,   0,   0,   0,   0,   0,   0,  82, 228, 251, 251, 251, 251,\n",
       "        173,   0,   0,   0,   0,   0,   0,   0,   0,   0,   0,   0,   0,\n",
       "          0,   0],\n",
       "       [  0,   0,   0,   0,   0,   0,  10, 137, 251, 251, 236,  92,  18,\n",
       "         13,   0,   0,   0,   0,   0,   0,   0,   0,   0,   0,   0,   0,\n",
       "          0,   0],\n",
       "       [  0,   0,   0,   0,   0,   0,  59, 251, 251, 251, 153,   0,   0,\n",
       "          0,   0,   0,   0,   0,   0,   0,   0,   0,   0,   0,   0,   0,\n",
       "          0,   0],\n",
       "       [  0,   0,   0,   0,   0,   0,  59, 251, 251, 226,  59,   0,   0,\n",
       "          0,   0,   0,   0,   0, 109, 155,  96,   0,   0,   0,   0,   0,\n",
       "          0,   0],\n",
       "       [  0,   0,   0,   0,   0,   0,  59, 251, 251, 212,   0,   0,   0,\n",
       "          0,   0,  16, 215, 214, 239, 251, 236, 214,  47,   0,   0,   0,\n",
       "          0,   0],\n",
       "       [  0,   0,   0,   0,   0,   0, 119, 251, 251, 212,   0,   0,   0,\n",
       "         25,  78, 212, 253, 251, 251, 251, 251, 251, 237,  54,   0,   0,\n",
       "          0,   0],\n",
       "       [  0,   0,   0,   0,   0,   0, 253, 251, 251, 212,   0,   0,   0,\n",
       "         78, 251, 251, 253, 251, 251, 251, 251, 251, 251, 215,  63,   0,\n",
       "          0,   0],\n",
       "       [  0,   0,   0,   0,   0,   0, 253, 251, 251, 212,   0,   0,  16,\n",
       "        212, 251, 251, 253, 251, 251, 220, 131, 251, 251, 251, 220,  44,\n",
       "          0,   0],\n",
       "       [  0,   0,   0,   0,   0,   0, 255, 253, 253, 213,   0,  37, 224,\n",
       "        253, 253, 253, 150,   0,   0,   0,   0,   0, 215, 253, 253,  57,\n",
       "          0,   0],\n",
       "       [  0,   0,   0,   0,   0,   0, 253, 251, 251, 212,   0, 155, 251,\n",
       "        251, 251, 160,   0,   0,   0,   0,   0,   0, 214, 251, 251,  57,\n",
       "          0,   0],\n",
       "       [  0,   0,   0,   0,   0,   0, 253, 251, 251, 239, 175, 222, 251,\n",
       "        251, 251,  57,   0,   0,   0,   0,   0, 109, 239, 251, 156,  18,\n",
       "          0,   0],\n",
       "       [  0,   0,   0,   0,   0,   0, 222, 251, 251, 251, 251, 251, 251,\n",
       "        239, 107,   4,   0,   0,   0,  37, 115, 244, 251, 239,  98,   0,\n",
       "          0,   0],\n",
       "       [  0,   0,   0,   0,   0,   0,  59, 251, 251, 251, 251, 251, 251,\n",
       "        173,   0,   0,  23,  98,  98, 240, 251, 251, 243, 107,   0,   0,\n",
       "          0,   0],\n",
       "       [  0,   0,   0,   0,   0,   0,  59, 251, 251, 251, 251, 251, 251,\n",
       "        221, 155, 155, 179, 251, 251, 251, 251, 251, 231,   0,   0,   0,\n",
       "          0,   0],\n",
       "       [  0,   0,   0,   0,   0,   0,   9,  37, 172, 249, 251, 251, 251,\n",
       "        251, 251, 251, 253, 251, 237, 231, 156,  37,  35,   0,   0,   0,\n",
       "          0,   0],\n",
       "       [  0,   0,   0,   0,   0,   0,   0,   0,   0, 161, 203, 251, 251,\n",
       "        251, 251, 251, 174, 173,  53,   0,   0,   0,   0,   0,   0,   0,\n",
       "          0,   0],\n",
       "       [  0,   0,   0,   0,   0,   0,   0,   0,   0,   0,  45, 199, 251,\n",
       "        251, 251, 145,   0,   0,   0,   0,   0,   0,   0,   0,   0,   0,\n",
       "          0,   0],\n",
       "       [  0,   0,   0,   0,   0,   0,   0,   0,   0,   0,   0,  36,  72,\n",
       "        190,  57,  13,   0,   0,   0,   0,   0,   0,   0,   0,   0,   0,\n",
       "          0,   0],\n",
       "       [  0,   0,   0,   0,   0,   0,   0,   0,   0,   0,   0,   0,   0,\n",
       "          0,   0,   0,   0,   0,   0,   0,   0,   0,   0,   0,   0,   0,\n",
       "          0,   0],\n",
       "       [  0,   0,   0,   0,   0,   0,   0,   0,   0,   0,   0,   0,   0,\n",
       "          0,   0,   0,   0,   0,   0,   0,   0,   0,   0,   0,   0,   0,\n",
       "          0,   0],\n",
       "       [  0,   0,   0,   0,   0,   0,   0,   0,   0,   0,   0,   0,   0,\n",
       "          0,   0,   0,   0,   0,   0,   0,   0,   0,   0,   0,   0,   0,\n",
       "          0,   0],\n",
       "       [  0,   0,   0,   0,   0,   0,   0,   0,   0,   0,   0,   0,   0,\n",
       "          0,   0,   0,   0,   0,   0,   0,   0,   0,   0,   0,   0,   0,\n",
       "          0,   0]], dtype=uint8)"
      ]
     },
     "execution_count": 7,
     "metadata": {},
     "output_type": "execute_result"
    }
   ],
   "source": [
    "x_train[9000] #0~255，0為白，255為黑"
   ]
  },
  {
   "cell_type": "code",
   "execution_count": 8,
   "metadata": {},
   "outputs": [
    {
     "data": {
      "text/plain": [
       "<matplotlib.image.AxesImage at 0x1627fe44fd0>"
      ]
     },
     "execution_count": 8,
     "metadata": {},
     "output_type": "execute_result"
    },
    {
     "data": {
      "image/png": "[encoded data removed]",
      "text/plain": [
       "<Figure size 432x288 with 1 Axes>"
      ]
     },
     "metadata": {
      "needs_background": "light"
     },
     "output_type": "display_data"
    }
   ],
   "source": [
    "plt.imshow(x_train[9000],cmap = \"Greys\") #灰階畫圖"
   ]
  },
  {
   "cell_type": "code",
   "execution_count": 9,
   "metadata": {},
   "outputs": [
    {
     "data": {
      "text/plain": [
       "6"
      ]
     },
     "execution_count": 9,
     "metadata": {},
     "output_type": "execute_result"
    }
   ],
   "source": [
    "y_train[9000] #確認答案"
   ]
  },
  {
   "cell_type": "code",
   "execution_count": 10,
   "metadata": {},
   "outputs": [
    {
     "data": {
      "text/plain": [
       "(60000, 28, 28)"
      ]
     },
     "execution_count": 10,
     "metadata": {},
     "output_type": "execute_result"
    }
   ],
   "source": [
    "x_train.shape #六萬筆28*28的資料"
   ]
  },
  {
   "cell_type": "code",
   "execution_count": 11,
   "metadata": {},
   "outputs": [],
   "source": [
    "x_train = x_train.reshape(60000 , 784) #將資料重朔成60000*784的資料\n",
    "x_test = x_test.reshape(10000 , 784) #同上，將資料拉平"
   ]
  },
  {
   "cell_type": "code",
   "execution_count": 12,
   "metadata": {},
   "outputs": [],
   "source": [
    "from keras.utils import np_utils #要做 \"1-hot enconding\"，先匯入工具"
   ]
  },
  {
   "cell_type": "code",
   "execution_count": 13,
   "metadata": {},
   "outputs": [],
   "source": [
    "y_train = np_utils.to_categorical(y_train , 10) #把0~9換成\"1-hot enconding\"的輸出"
   ]
  },
  {
   "cell_type": "code",
   "execution_count": 14,
   "metadata": {},
   "outputs": [],
   "source": [
    "y_test = np_utils.to_categorical(y_test,10) #同上"
   ]
  },
  {
   "cell_type": "code",
   "execution_count": 15,
   "metadata": {},
   "outputs": [
    {
     "data": {
      "text/plain": [
       "array([0., 0., 0., 0., 0., 0., 1., 0., 0., 0.], dtype=float32)"
      ]
     },
     "execution_count": 15,
     "metadata": {},
     "output_type": "execute_result"
    }
   ],
   "source": [
    "y_train[9000]"
   ]
  },
  {
   "cell_type": "code",
   "execution_count": 16,
   "metadata": {},
   "outputs": [],
   "source": [
    "from keras.models import Sequential #匯入神經網路模型，最標準型\n",
    "from keras.layers import Dense , Activation #Dense是fullycinnectNN最標準的神經網路模型,也要設定Activation fun\n",
    "from keras.optimizers import SGD #optimizers用以最佳化神經網路，SGD(隨機梯度下降)"
   ]
  },
  {
   "cell_type": "code",
   "execution_count": 17,
   "metadata": {},
   "outputs": [],
   "source": [
    "model = Sequential() #建造一個空的神經網路"
   ]
  },
  {
   "cell_type": "code",
   "execution_count": 18,
   "metadata": {},
   "outputs": [],
   "source": [
    "model.add( Dense( 500 , input_dim = 784 ) ) #第一層神經網路隱藏層，Dense = fiilyconnected , 第一層要記得加input_dim\n",
    "model.add( Activation(\"sigmoid\")) #Activation設定為sigmoid fun"
   ]
  },
  {
   "cell_type": "code",
   "execution_count": 19,
   "metadata": {},
   "outputs": [],
   "source": [
    "model.add(Dense(500))  #第二層隱藏層\n",
    "model.add( Activation(\"sigmoid\"))"
   ]
  },
  {
   "cell_type": "code",
   "execution_count": 20,
   "metadata": {},
   "outputs": [],
   "source": [
    "model.add(Dense(10))  #輸出層\n",
    "model.add( Activation(\"softmax\")) #設定為softmax(輸出總合為1)"
   ]
  },
  {
   "cell_type": "code",
   "execution_count": 21,
   "metadata": {},
   "outputs": [],
   "source": [
    "model.compile(loss = \"mse\" , optimizer = SGD(lr = 0.1) ,metrics = [\"accuracy\"])\n",
    "#組裝神經網路，須告知loss fun,mse=平方誤差總和，lr=學習率，metrics可輸入想看的數值(accuracy =正確率"
   ]
  },
  {
   "cell_type": "code",
   "execution_count": 22,
   "metadata": {},
   "outputs": [
    {
     "name": "stdout",
     "output_type": "stream",
     "text": [
      "Model: \"sequential_1\"\n",
      "_________________________________________________________________\n",
      "Layer (type)                 Output Shape              Param #   \n",
      "=================================================================\n",
      "dense_1 (Dense)              (None, 500)               392500    \n",
      "_________________________________________________________________\n",
      "activation_1 (Activation)    (None, 500)               0         \n",
      "_________________________________________________________________\n",
      "dense_2 (Dense)              (None, 500)               250500    \n",
      "_________________________________________________________________\n",
      "activation_2 (Activation)    (None, 500)               0         \n",
      "_________________________________________________________________\n",
      "dense_3 (Dense)              (None, 10)                5010      \n",
      "_________________________________________________________________\n",
      "activation_3 (Activation)    (None, 10)                0         \n",
      "=================================================================\n",
      "Total params: 648,010\n",
      "Trainable params: 648,010\n",
      "Non-trainable params: 0\n",
      "_________________________________________________________________\n"
     ]
    }
   ],
   "source": [
    "model.summary() #模型預覽，392500=784*500+500，250500=500*500+500，5010=500*10+10，輸入*神經元數+bias數(同神經元數)"
   ]
  },
  {
   "cell_type": "code",
   "execution_count": 23,
   "metadata": {},
   "outputs": [
    {
     "name": "stdout",
     "output_type": "stream",
     "text": [
      "WARNING:tensorflow:From D:\\Anacinda3\\lib\\site-packages\\keras\\backend\\tensorflow_backend.py:422: The name tf.global_variables is deprecated. Please use tf.compat.v1.global_variables instead.\n",
      "\n",
      "Epoch 1/20\n",
      "60000/60000 [==============================] - 5s 88us/step - loss: 0.0822 - accuracy: 0.3534\n",
      "Epoch 2/20\n",
      "60000/60000 [==============================] - 5s 81us/step - loss: 0.0621 - accuracy: 0.6344\n",
      "Epoch 3/20\n",
      "60000/60000 [==============================] - 5s 77us/step - loss: 0.0443 - accuracy: 0.7821\n",
      "Epoch 4/20\n",
      "60000/60000 [==============================] - 5s 88us/step - loss: 0.0321 - accuracy: 0.8504\n",
      "Epoch 5/20\n",
      "60000/60000 [==============================] - 5s 85us/step - loss: 0.0250 - accuracy: 0.8763\n",
      "Epoch 6/20\n",
      "60000/60000 [==============================] - 5s 82us/step - loss: 0.0209 - accuracy: 0.8901\n",
      "Epoch 7/20\n",
      "60000/60000 [==============================] - 5s 75us/step - loss: 0.0184 - accuracy: 0.8993\n",
      "Epoch 8/20\n",
      "60000/60000 [==============================] - 6s 92us/step - loss: 0.0167 - accuracy: 0.9055\n",
      "Epoch 9/20\n",
      "60000/60000 [==============================] - 5s 90us/step - loss: 0.0154 - accuracy: 0.9114\n",
      "Epoch 10/20\n",
      "60000/60000 [==============================] - 5s 78us/step - loss: 0.0144 - accuracy: 0.9163\n",
      "Epoch 11/20\n",
      "60000/60000 [==============================] - 5s 80us/step - loss: 0.0136 - accuracy: 0.9205\n",
      "Epoch 12/20\n",
      "60000/60000 [==============================] - 5s 82us/step - loss: 0.0129 - accuracy: 0.9244\n",
      "Epoch 13/20\n",
      "60000/60000 [==============================] - 5s 79us/step - loss: 0.0123 - accuracy: 0.9276\n",
      "Epoch 14/20\n",
      "60000/60000 [==============================] - 5s 81us/step - loss: 0.0118 - accuracy: 0.9305\n",
      "Epoch 15/20\n",
      "60000/60000 [==============================] - 5s 81us/step - loss: 0.0113 - accuracy: 0.9340\n",
      "Epoch 16/20\n",
      "60000/60000 [==============================] - 5s 81us/step - loss: 0.0109 - accuracy: 0.9365\n",
      "Epoch 17/20\n",
      "60000/60000 [==============================] - 5s 82us/step - loss: 0.0105 - accuracy: 0.9390\n",
      "Epoch 18/20\n",
      "60000/60000 [==============================] - 5s 78us/step - loss: 0.0101 - accuracy: 0.9412\n",
      "Epoch 19/20\n",
      "60000/60000 [==============================] - 5s 81us/step - loss: 0.0098 - accuracy: 0.9428\n",
      "Epoch 20/20\n",
      "60000/60000 [==============================] - 5s 80us/step - loss: 0.0095 - accuracy: 0.9445\n"
     ]
    },
    {
     "data": {
      "text/plain": [
       "<keras.callbacks.callbacks.History at 0x1627fe54b00>"
      ]
     },
     "execution_count": 23,
     "metadata": {},
     "output_type": "execute_result"
    }
   ],
   "source": [
    "model.fit(x_train , y_train , batch_size= 100, epochs = 20 )\n",
    "#不會一次用60000筆，會一次用mini batch來訓練 , epochs=訓練次數"
   ]
  },
  {
   "cell_type": "code",
   "execution_count": 24,
   "metadata": {},
   "outputs": [],
   "source": [
    "from ipywidgets import interact_manual #展示訓練成果(匯入互動模組)"
   ]
  },
  {
   "cell_type": "code",
   "execution_count": 25,
   "metadata": {},
   "outputs": [],
   "source": [
    "predict=model.predict_classes(x_test) #用測試資料做預測(顯示羅馬數字)"
   ]
  },
  {
   "cell_type": "code",
   "execution_count": 26,
   "metadata": {},
   "outputs": [],
   "source": [
    "def test(測試編號):\n",
    "    plt.imshow(x_test[測試編號].reshape(28,28),cmap = \"Greys\")\n",
    "    print(\"神經網路判斷為：\" , predict[測試編號])"
   ]
  },
  {
   "cell_type": "code",
   "execution_count": 27,
   "metadata": {},
   "outputs": [
    {
     "data": {
      "application/vnd.jupyter.widget-view+json": {
       "model_id": "b260642df1484806b4b3d907433d3a9e",
       "version_major": 2,
       "version_minor": 0
      },
      "text/plain": [
       "interactive(children=(IntSlider(value=4999, description='測試編號', max=9999), Button(description='Run Interact', …"
      ]
     },
     "metadata": {},
     "output_type": "display_data"
    },
    {
     "data": {
      "text/plain": [
       "<function __main__.test(測試編號)>"
      ]
     },
     "execution_count": 27,
     "metadata": {},
     "output_type": "execute_result"
    }
   ],
   "source": [
    "interact_manual(test,測試編號=(0,9999))"
   ]
  },
  {
   "cell_type": "code",
   "execution_count": 28,
   "metadata": {},
   "outputs": [],
   "source": [
    "model_json = model.to_json() #儲存訓練好的神經網路\n",
    "open(\"handwriting_model_architecture.json\",\"w\").write(model_json) #儲存神經網路架構寫入json檔\n",
    "model.save_weights(\"handwriting_model_weights.h5\") #儲存權重"
   ]
  },
  {
   "cell_type": "code",
   "execution_count": 29,
   "metadata": {},
   "outputs": [],
   "source": [
    "#再次讀取方法github = https://github.com/yenlung/Deep-Learning-MOOC"
   ]
  },
  {
   "cell_type": "code",
   "execution_count": null,
   "metadata": {},
   "outputs": [],
   "source": []
  }
 ],
 "metadata": {
  "kernelspec": {
   "display_name": "Python 3",
   "language": "python",
   "name": "python3"
  },
  "language_info": {
   "codemirror_mode": {
    "name": "ipython",
    "version": 3
   },
   "file_extension": ".py",
   "mimetype": "text/x-python",
   "name": "python",
   "nbconvert_exporter": "python",
   "pygments_lexer": "ipython3",
   "version": "3.7.3"
  }
 },
 "nbformat": 4,
 "nbformat_minor": 2
}
