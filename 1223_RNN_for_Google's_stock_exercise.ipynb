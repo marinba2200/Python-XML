{
  "nbformat": 4,
  "nbformat_minor": 0,
  "metadata": {
    "colab": {
      "name": "1223_RNN for Google's stock_exercise.ipynb",
      "provenance": [],
      "collapsed_sections": [],
      "toc_visible": true,
      "include_colab_link": true
    },
    "kernelspec": {
      "name": "python3",
      "display_name": "Python 3"
    },
    "accelerator": "GPU"
  },
  "cells": [
    {
      "cell_type": "markdown",
      "metadata": {
        "id": "view-in-github",
        "colab_type": "text"
      },
      "source": [
        "<a href=\"https://colab.research.google.com/github/marinba2200/Python-XML/blob/master/1223_RNN_for_Google's_stock_exercise.ipynb\" target=\"_parent\"><img src=\"https://colab.research.google.com/assets/colab-badge.svg\" alt=\"Open In Colab\"/></a>"
      ]
    },
    {
      "cell_type": "markdown",
      "metadata": {
        "id": "WA_4jB61eIiM"
      },
      "source": [
        "# Recurrent Neural Network"
      ]
    },
    {
      "cell_type": "markdown",
      "metadata": {
        "id": "GA00noJxeLlA"
      },
      "source": [
        "## Part 1 - Data Preprocessing"
      ]
    },
    {
      "cell_type": "code",
      "metadata": {
        "id": "hh8rdU3FbYRv"
      },
      "source": [
        "# Importing the libraries\r\n",
        "import numpy as np\r\n",
        "import matplotlib.pyplot as plt\r\n",
        "import pandas as pd"
      ],
      "execution_count": null,
      "outputs": []
    },
    {
      "cell_type": "code",
      "metadata": {
        "id": "xRmT4iFceOwC",
        "colab": {
          "base_uri": "https://localhost:8080/"
        },
        "outputId": "adb7b309-03a6-4e4a-bd5b-b011d348e2a2"
      },
      "source": [
        "# Importing the training set (from 2012 to 2016)\r\n",
        "dataset_train = pd.read_csv('Google_Stock_Price_Train.csv')\r\n",
        "training_set = dataset_train.iloc[:, 1:2].values\r\n",
        "print(training_set.shape)"
      ],
      "execution_count": null,
      "outputs": [
        {
          "output_type": "stream",
          "text": [
            "(1258, 1)\n"
          ],
          "name": "stdout"
        }
      ]
    },
    {
      "cell_type": "code",
      "metadata": {
        "id": "lkazIL14eeEh"
      },
      "source": [
        "# Feature Scaling\r\n",
        "from sklearn.preprocessing import MinMaxScaler\r\n",
        "sc = MinMaxScaler(feature_range = (0, 1))\r\n",
        "training_set_scaled = sc.fit_transform(training_set) #歸一化(0~1之間)"
      ],
      "execution_count": null,
      "outputs": []
    },
    {
      "cell_type": "code",
      "metadata": {
        "id": "OjHHJEw_egQt"
      },
      "source": [
        "# Creating a data structure with 60 timesteps and 1 output\r\n",
        "# Should we change the number of timestep?\r\n",
        "# Should we add other features from the data?\r\n",
        "X_train = []\r\n",
        "y_train = []\r\n",
        "for i in range(60, 1258): #i=60 to 1257\r\n",
        "    X_train.append(training_set_scaled[i-60:i, 0]) #之前是從0開始讀，這裡反過來從最新的開始每步60往回走\r\n",
        "    y_train.append(training_set_scaled[i, 0])\r\n",
        "X_train, y_train = np.array(X_train), np.array(y_train) #1198=1258-60"
      ],
      "execution_count": null,
      "outputs": []
    },
    {
      "cell_type": "code",
      "metadata": {
        "colab": {
          "base_uri": "https://localhost:8080/"
        },
        "id": "km41wwhrW5sL",
        "outputId": "fa99a08e-f33d-4554-e576-5b36834c9543"
      },
      "source": [
        "print(X_train.shape)"
      ],
      "execution_count": null,
      "outputs": [
        {
          "output_type": "stream",
          "text": [
            "(1198, 60)\n"
          ],
          "name": "stdout"
        }
      ]
    },
    {
      "cell_type": "code",
      "metadata": {
        "id": "JJif9_W6ejKQ",
        "colab": {
          "base_uri": "https://localhost:8080/"
        },
        "outputId": "2d11efa8-750b-4ce7-a9c5-8acd7c7aedeb"
      },
      "source": [
        "# Reshaping\r\n",
        "X_train = np.reshape(X_train, (X_train.shape[0], X_train.shape[1], -1))\r\n",
        "print(X_train.shape)"
      ],
      "execution_count": null,
      "outputs": [
        {
          "output_type": "stream",
          "text": [
            "(1198, 60, 1)\n"
          ],
          "name": "stdout"
        }
      ]
    },
    {
      "cell_type": "markdown",
      "metadata": {
        "id": "ye6E8W0repSw"
      },
      "source": [
        "## Part 2 - Building the RNN"
      ]
    },
    {
      "cell_type": "code",
      "metadata": {
        "id": "44KE-l_2em2G"
      },
      "source": [
        "# Importing the Keras libraries and packages\r\n",
        "from tensorflow.keras.models import Sequential\r\n",
        "from tensorflow.keras.layers import Dense\r\n",
        "from tensorflow.keras.layers import LSTM\r\n",
        "from tensorflow.keras.layers import Dropout"
      ],
      "execution_count": null,
      "outputs": []
    },
    {
      "cell_type": "code",
      "metadata": {
        "id": "mdgtS6hIexFM"
      },
      "source": [
        "# Initialising the RNN\r\n",
        "# Should we add the number of LSTM layer?\r\n",
        "# Should we add the number of units in LSTM layer?\r\n",
        "regressor = Sequential()"
      ],
      "execution_count": null,
      "outputs": []
    },
    {
      "cell_type": "code",
      "metadata": {
        "id": "sg72rg9ke0Ia"
      },
      "source": [
        "# Adding the first LSTM layer and some Dropout regularisation\r\n",
        "regressor.add(LSTM(units = 50, return_sequences = True, input_shape = (X_train.shape[1], 1))) # regressor.add(???(units = 50, return_sequences = True, input_shape = (X_train.shape[1], 1)))\r\n",
        "#simplrRNN也可 #unit指的是空間上的，return_sequences是要不要迴(每個時間上的y-hat要不要提出[串起])\r\n",
        "#如果input有9個(9個單字的句子),return_sequences=True就會有9個y-hat(會保留return)\r\n",
        "regressor.add(Dropout(0.2))"
      ],
      "execution_count": null,
      "outputs": []
    },
    {
      "cell_type": "code",
      "metadata": {
        "id": "lRpvd8q-e4KP"
      },
      "source": [
        "# Adding a second LSTM layer and some Dropout regularisation\r\n",
        "regressor.add(LSTM(units = 50, return_sequences = True)) # regressor.add(???(units = 50, return_sequences = True))\r\n",
        "regressor.add(Dropout(0.2))"
      ],
      "execution_count": null,
      "outputs": []
    },
    {
      "cell_type": "code",
      "metadata": {
        "id": "AoYEB_gqe7dr"
      },
      "source": [
        "# Adding a third LSTM layer and some Dropout regularisation\r\n",
        "regressor.add(LSTM(units = 50, return_sequences = True)) # regressor.add(???(units = 50, return_sequences = True))\r\n",
        "regressor.add(Dropout(0.2))"
      ],
      "execution_count": null,
      "outputs": []
    },
    {
      "cell_type": "code",
      "metadata": {
        "id": "OOkTCnq1e9gK"
      },
      "source": [
        "# Adding a fourth LSTM layer and some Dropout regularisation\r\n",
        "regressor.add(LSTM(units = 50)) # regressor.add(???(units = 50))\r\n",
        "#最後要接Dense了，return就不需要了\r\n",
        "regressor.add(Dropout(0.2))"
      ],
      "execution_count": null,
      "outputs": []
    },
    {
      "cell_type": "code",
      "metadata": {
        "id": "Jdb9SKLwe_XX"
      },
      "source": [
        "# Adding the output layer\r\n",
        "regressor.add(Dense(units = 1))"
      ],
      "execution_count": null,
      "outputs": []
    },
    {
      "cell_type": "code",
      "metadata": {
        "id": "KGZgQ2ZTfBTY",
        "colab": {
          "base_uri": "https://localhost:8080/"
        },
        "outputId": "02bca5d6-1f8d-45d3-cad9-9f3166ef4d93"
      },
      "source": [
        "# Compiling the RNN\r\n",
        "regressor.compile(optimizer = 'adam', loss = 'mean_squared_error')\r\n",
        "regressor.summary()\r\n",
        "#每個unit有4個index，共有50個unit，input的時間+空間(50+1)加上bias\r\n",
        "##時間=unit數，空間=上一層(input)數\r\n",
        "# ((50+1)+1)*4*50=10400, ((50+50)+1)*4*50=20200\r\n",
        "#上一層的時間+空間(50+50)，再加上bias，此曾有50個unit,每個unit有4個index"
      ],
      "execution_count": null,
      "outputs": [
        {
          "output_type": "stream",
          "text": [
            "Model: \"sequential\"\n",
            "_________________________________________________________________\n",
            "Layer (type)                 Output Shape              Param #   \n",
            "=================================================================\n",
            "lstm (LSTM)                  (None, 60, 50)            10400     \n",
            "_________________________________________________________________\n",
            "dropout (Dropout)            (None, 60, 50)            0         \n",
            "_________________________________________________________________\n",
            "lstm_1 (LSTM)                (None, 60, 50)            20200     \n",
            "_________________________________________________________________\n",
            "dropout_1 (Dropout)          (None, 60, 50)            0         \n",
            "_________________________________________________________________\n",
            "lstm_2 (LSTM)                (None, 60, 50)            20200     \n",
            "_________________________________________________________________\n",
            "dropout_2 (Dropout)          (None, 60, 50)            0         \n",
            "_________________________________________________________________\n",
            "lstm_3 (LSTM)                (None, 50)                20200     \n",
            "_________________________________________________________________\n",
            "dropout_3 (Dropout)          (None, 50)                0         \n",
            "_________________________________________________________________\n",
            "dense (Dense)                (None, 1)                 51        \n",
            "=================================================================\n",
            "Total params: 71,051\n",
            "Trainable params: 71,051\n",
            "Non-trainable params: 0\n",
            "_________________________________________________________________\n"
          ],
          "name": "stdout"
        }
      ]
    },
    {
      "cell_type": "code",
      "metadata": {
        "colab": {
          "base_uri": "https://localhost:8080/"
        },
        "id": "SrXcrdqtfDFB",
        "outputId": "a468a86b-ef7b-4e7f-9bf5-23bf8b42e7ed"
      },
      "source": [
        "# Fitting the RNN to the Training set\r\n",
        "regressor.fit(X_train, y_train, epochs = 200, batch_size = 32)"
      ],
      "execution_count": null,
      "outputs": [
        {
          "output_type": "stream",
          "text": [
            "Epoch 1/200\n",
            "38/38 [==============================] - 1s 15ms/step - loss: 0.0013\n",
            "Epoch 2/200\n",
            "38/38 [==============================] - 0s 13ms/step - loss: 0.0011\n",
            "Epoch 3/200\n",
            "38/38 [==============================] - 1s 13ms/step - loss: 0.0013\n",
            "Epoch 4/200\n",
            "38/38 [==============================] - 0s 13ms/step - loss: 0.0011\n",
            "Epoch 5/200\n",
            "38/38 [==============================] - 0s 13ms/step - loss: 0.0012\n",
            "Epoch 6/200\n",
            "38/38 [==============================] - 1s 13ms/step - loss: 0.0012\n",
            "Epoch 7/200\n",
            "38/38 [==============================] - 0s 13ms/step - loss: 0.0010\n",
            "Epoch 8/200\n",
            "38/38 [==============================] - 0s 13ms/step - loss: 0.0012\n",
            "Epoch 9/200\n",
            "38/38 [==============================] - 0s 13ms/step - loss: 0.0012\n",
            "Epoch 10/200\n",
            "38/38 [==============================] - 0s 13ms/step - loss: 0.0011\n",
            "Epoch 11/200\n",
            "38/38 [==============================] - 1s 13ms/step - loss: 0.0014\n",
            "Epoch 12/200\n",
            "38/38 [==============================] - 0s 13ms/step - loss: 0.0014\n",
            "Epoch 13/200\n",
            "38/38 [==============================] - 1s 14ms/step - loss: 0.0012\n",
            "Epoch 14/200\n",
            "38/38 [==============================] - 0s 13ms/step - loss: 0.0011\n",
            "Epoch 15/200\n",
            "38/38 [==============================] - 1s 13ms/step - loss: 0.0011\n",
            "Epoch 16/200\n",
            "38/38 [==============================] - 1s 13ms/step - loss: 0.0011\n",
            "Epoch 17/200\n",
            "38/38 [==============================] - 1s 13ms/step - loss: 0.0011\n",
            "Epoch 18/200\n",
            "38/38 [==============================] - 0s 13ms/step - loss: 0.0014\n",
            "Epoch 19/200\n",
            "38/38 [==============================] - 1s 13ms/step - loss: 0.0013\n",
            "Epoch 20/200\n",
            "38/38 [==============================] - 0s 13ms/step - loss: 0.0011\n",
            "Epoch 21/200\n",
            "38/38 [==============================] - 0s 13ms/step - loss: 0.0011\n",
            "Epoch 22/200\n",
            "38/38 [==============================] - 0s 13ms/step - loss: 0.0010\n",
            "Epoch 23/200\n",
            "38/38 [==============================] - 0s 13ms/step - loss: 0.0013\n",
            "Epoch 24/200\n",
            "38/38 [==============================] - 0s 13ms/step - loss: 0.0012\n",
            "Epoch 25/200\n",
            "38/38 [==============================] - 0s 13ms/step - loss: 0.0011\n",
            "Epoch 26/200\n",
            "38/38 [==============================] - 1s 13ms/step - loss: 0.0012\n",
            "Epoch 27/200\n",
            "38/38 [==============================] - 0s 13ms/step - loss: 0.0015\n",
            "Epoch 28/200\n",
            "38/38 [==============================] - 0s 13ms/step - loss: 0.0012\n",
            "Epoch 29/200\n",
            "38/38 [==============================] - 0s 13ms/step - loss: 0.0011\n",
            "Epoch 30/200\n",
            "38/38 [==============================] - 0s 13ms/step - loss: 0.0011\n",
            "Epoch 31/200\n",
            "38/38 [==============================] - 0s 13ms/step - loss: 0.0012\n",
            "Epoch 32/200\n",
            "38/38 [==============================] - 1s 13ms/step - loss: 0.0011\n",
            "Epoch 33/200\n",
            "38/38 [==============================] - 0s 13ms/step - loss: 0.0011\n",
            "Epoch 34/200\n",
            "38/38 [==============================] - 0s 13ms/step - loss: 0.0012\n",
            "Epoch 35/200\n",
            "38/38 [==============================] - 0s 13ms/step - loss: 0.0010\n",
            "Epoch 36/200\n",
            "38/38 [==============================] - 1s 13ms/step - loss: 0.0011\n",
            "Epoch 37/200\n",
            "38/38 [==============================] - 0s 13ms/step - loss: 0.0013\n",
            "Epoch 38/200\n",
            "38/38 [==============================] - 1s 13ms/step - loss: 0.0012\n",
            "Epoch 39/200\n",
            "38/38 [==============================] - 0s 13ms/step - loss: 0.0012\n",
            "Epoch 40/200\n",
            "38/38 [==============================] - 0s 13ms/step - loss: 0.0011\n",
            "Epoch 41/200\n",
            "38/38 [==============================] - 1s 13ms/step - loss: 0.0010\n",
            "Epoch 42/200\n",
            "38/38 [==============================] - 0s 13ms/step - loss: 0.0012\n",
            "Epoch 43/200\n",
            "38/38 [==============================] - 1s 13ms/step - loss: 0.0010\n",
            "Epoch 44/200\n",
            "38/38 [==============================] - 0s 13ms/step - loss: 0.0010\n",
            "Epoch 45/200\n",
            "38/38 [==============================] - 1s 13ms/step - loss: 0.0011\n",
            "Epoch 46/200\n",
            "38/38 [==============================] - 0s 13ms/step - loss: 0.0012\n",
            "Epoch 47/200\n",
            "38/38 [==============================] - 0s 13ms/step - loss: 0.0010\n",
            "Epoch 48/200\n",
            "38/38 [==============================] - 1s 13ms/step - loss: 0.0010\n",
            "Epoch 49/200\n",
            "38/38 [==============================] - 0s 13ms/step - loss: 0.0011\n",
            "Epoch 50/200\n",
            "38/38 [==============================] - 0s 13ms/step - loss: 0.0010\n",
            "Epoch 51/200\n",
            "38/38 [==============================] - 0s 13ms/step - loss: 0.0012\n",
            "Epoch 52/200\n",
            "38/38 [==============================] - 0s 13ms/step - loss: 9.6054e-04\n",
            "Epoch 53/200\n",
            "38/38 [==============================] - 1s 13ms/step - loss: 0.0011\n",
            "Epoch 54/200\n",
            "38/38 [==============================] - 0s 13ms/step - loss: 0.0011\n",
            "Epoch 55/200\n",
            "38/38 [==============================] - 0s 13ms/step - loss: 0.0012\n",
            "Epoch 56/200\n",
            "38/38 [==============================] - 1s 13ms/step - loss: 0.0011\n",
            "Epoch 57/200\n",
            "38/38 [==============================] - 0s 13ms/step - loss: 0.0010\n",
            "Epoch 58/200\n",
            "38/38 [==============================] - 0s 13ms/step - loss: 0.0010\n",
            "Epoch 59/200\n",
            "38/38 [==============================] - 1s 13ms/step - loss: 0.0010\n",
            "Epoch 60/200\n",
            "38/38 [==============================] - 0s 13ms/step - loss: 0.0013\n",
            "Epoch 61/200\n",
            "38/38 [==============================] - 1s 13ms/step - loss: 0.0011\n",
            "Epoch 62/200\n",
            "38/38 [==============================] - 0s 13ms/step - loss: 0.0011\n",
            "Epoch 63/200\n",
            "38/38 [==============================] - 0s 13ms/step - loss: 0.0010\n",
            "Epoch 64/200\n",
            "38/38 [==============================] - 1s 13ms/step - loss: 0.0010\n",
            "Epoch 65/200\n",
            "38/38 [==============================] - 0s 13ms/step - loss: 0.0011\n",
            "Epoch 66/200\n",
            "38/38 [==============================] - 0s 13ms/step - loss: 0.0011\n",
            "Epoch 67/200\n",
            "38/38 [==============================] - 1s 13ms/step - loss: 0.0010\n",
            "Epoch 68/200\n",
            "38/38 [==============================] - 1s 13ms/step - loss: 9.8278e-04\n",
            "Epoch 69/200\n",
            "38/38 [==============================] - 0s 13ms/step - loss: 9.7175e-04\n",
            "Epoch 70/200\n",
            "38/38 [==============================] - 0s 13ms/step - loss: 0.0012\n",
            "Epoch 71/200\n",
            "38/38 [==============================] - 1s 13ms/step - loss: 0.0012\n",
            "Epoch 72/200\n",
            "38/38 [==============================] - 0s 13ms/step - loss: 8.9351e-04\n",
            "Epoch 73/200\n",
            "38/38 [==============================] - 0s 13ms/step - loss: 0.0010\n",
            "Epoch 74/200\n",
            "38/38 [==============================] - 0s 13ms/step - loss: 0.0012\n",
            "Epoch 75/200\n",
            "38/38 [==============================] - 0s 13ms/step - loss: 0.0010\n",
            "Epoch 76/200\n",
            "38/38 [==============================] - 1s 14ms/step - loss: 0.0010\n",
            "Epoch 77/200\n",
            "38/38 [==============================] - 0s 13ms/step - loss: 9.5098e-04\n",
            "Epoch 78/200\n",
            "38/38 [==============================] - 1s 13ms/step - loss: 9.2532e-04\n",
            "Epoch 79/200\n",
            "38/38 [==============================] - 0s 13ms/step - loss: 0.0011\n",
            "Epoch 80/200\n",
            "38/38 [==============================] - 0s 13ms/step - loss: 0.0011\n",
            "Epoch 81/200\n",
            "38/38 [==============================] - 0s 13ms/step - loss: 0.0010\n",
            "Epoch 82/200\n",
            "38/38 [==============================] - 0s 13ms/step - loss: 9.4955e-04\n",
            "Epoch 83/200\n",
            "38/38 [==============================] - 0s 13ms/step - loss: 9.9711e-04\n",
            "Epoch 84/200\n",
            "38/38 [==============================] - 1s 13ms/step - loss: 9.7598e-04\n",
            "Epoch 85/200\n",
            "38/38 [==============================] - 0s 13ms/step - loss: 9.6014e-04\n",
            "Epoch 86/200\n",
            "38/38 [==============================] - 0s 13ms/step - loss: 0.0010\n",
            "Epoch 87/200\n",
            "38/38 [==============================] - 0s 13ms/step - loss: 9.9980e-04\n",
            "Epoch 88/200\n",
            "38/38 [==============================] - 1s 13ms/step - loss: 0.0010\n",
            "Epoch 89/200\n",
            "38/38 [==============================] - 1s 13ms/step - loss: 9.3491e-04\n",
            "Epoch 90/200\n",
            "38/38 [==============================] - 0s 13ms/step - loss: 9.6524e-04\n",
            "Epoch 91/200\n",
            "38/38 [==============================] - 1s 13ms/step - loss: 0.0010\n",
            "Epoch 92/200\n",
            "38/38 [==============================] - 1s 13ms/step - loss: 0.0010\n",
            "Epoch 93/200\n",
            "38/38 [==============================] - 0s 13ms/step - loss: 9.6328e-04\n",
            "Epoch 94/200\n",
            "38/38 [==============================] - 1s 13ms/step - loss: 9.7365e-04\n",
            "Epoch 95/200\n",
            "38/38 [==============================] - 0s 13ms/step - loss: 0.0011\n",
            "Epoch 96/200\n",
            "38/38 [==============================] - 1s 13ms/step - loss: 9.8727e-04\n",
            "Epoch 97/200\n",
            "38/38 [==============================] - 0s 13ms/step - loss: 0.0010\n",
            "Epoch 98/200\n",
            "38/38 [==============================] - 1s 13ms/step - loss: 9.2672e-04\n",
            "Epoch 99/200\n",
            "38/38 [==============================] - 0s 13ms/step - loss: 0.0010\n",
            "Epoch 100/200\n",
            "38/38 [==============================] - 0s 13ms/step - loss: 9.8308e-04\n",
            "Epoch 101/200\n",
            "38/38 [==============================] - 1s 13ms/step - loss: 9.7395e-04\n",
            "Epoch 102/200\n",
            "38/38 [==============================] - 1s 13ms/step - loss: 9.9605e-04\n",
            "Epoch 103/200\n",
            "38/38 [==============================] - 0s 13ms/step - loss: 0.0010\n",
            "Epoch 104/200\n",
            "38/38 [==============================] - 1s 13ms/step - loss: 9.9990e-04\n",
            "Epoch 105/200\n",
            "38/38 [==============================] - 0s 13ms/step - loss: 0.0011\n",
            "Epoch 106/200\n",
            "38/38 [==============================] - 1s 13ms/step - loss: 9.3367e-04\n",
            "Epoch 107/200\n",
            "38/38 [==============================] - 1s 13ms/step - loss: 9.8944e-04\n",
            "Epoch 108/200\n",
            "38/38 [==============================] - 0s 13ms/step - loss: 0.0010\n",
            "Epoch 109/200\n",
            "38/38 [==============================] - 1s 14ms/step - loss: 8.3227e-04\n",
            "Epoch 110/200\n",
            "38/38 [==============================] - 1s 13ms/step - loss: 9.4136e-04\n",
            "Epoch 111/200\n",
            "38/38 [==============================] - 1s 13ms/step - loss: 0.0010\n",
            "Epoch 112/200\n",
            "38/38 [==============================] - 1s 13ms/step - loss: 9.9721e-04\n",
            "Epoch 113/200\n",
            "38/38 [==============================] - 1s 13ms/step - loss: 0.0011\n",
            "Epoch 114/200\n",
            "38/38 [==============================] - 1s 13ms/step - loss: 9.4018e-04\n",
            "Epoch 115/200\n",
            "38/38 [==============================] - 1s 13ms/step - loss: 9.3617e-04\n",
            "Epoch 116/200\n",
            "38/38 [==============================] - 1s 13ms/step - loss: 0.0010\n",
            "Epoch 117/200\n",
            "38/38 [==============================] - 0s 13ms/step - loss: 0.0010\n",
            "Epoch 118/200\n",
            "38/38 [==============================] - 1s 13ms/step - loss: 0.0010\n",
            "Epoch 119/200\n",
            "38/38 [==============================] - 0s 13ms/step - loss: 0.0010\n",
            "Epoch 120/200\n",
            "38/38 [==============================] - 1s 13ms/step - loss: 9.2801e-04\n",
            "Epoch 121/200\n",
            "38/38 [==============================] - 0s 13ms/step - loss: 0.0012\n",
            "Epoch 122/200\n",
            "38/38 [==============================] - 0s 13ms/step - loss: 0.0010\n",
            "Epoch 123/200\n",
            "38/38 [==============================] - 0s 13ms/step - loss: 9.2834e-04\n",
            "Epoch 124/200\n",
            "38/38 [==============================] - 1s 13ms/step - loss: 0.0010\n",
            "Epoch 125/200\n",
            "38/38 [==============================] - 0s 13ms/step - loss: 8.6754e-04\n",
            "Epoch 126/200\n",
            "38/38 [==============================] - 1s 13ms/step - loss: 8.8506e-04\n",
            "Epoch 127/200\n",
            "38/38 [==============================] - 1s 14ms/step - loss: 0.0010\n",
            "Epoch 128/200\n",
            "38/38 [==============================] - 1s 13ms/step - loss: 8.7728e-04\n",
            "Epoch 129/200\n",
            "38/38 [==============================] - 1s 13ms/step - loss: 0.0011\n",
            "Epoch 130/200\n",
            "38/38 [==============================] - 1s 13ms/step - loss: 0.0010\n",
            "Epoch 131/200\n",
            "38/38 [==============================] - 1s 13ms/step - loss: 9.5133e-04\n",
            "Epoch 132/200\n",
            "38/38 [==============================] - 1s 13ms/step - loss: 9.0563e-04\n",
            "Epoch 133/200\n",
            "38/38 [==============================] - 1s 13ms/step - loss: 0.0010\n",
            "Epoch 134/200\n",
            "38/38 [==============================] - 0s 13ms/step - loss: 0.0011\n",
            "Epoch 135/200\n",
            "38/38 [==============================] - 1s 13ms/step - loss: 9.6976e-04\n",
            "Epoch 136/200\n",
            "38/38 [==============================] - 1s 13ms/step - loss: 9.2496e-04\n",
            "Epoch 137/200\n",
            "38/38 [==============================] - 0s 13ms/step - loss: 0.0010\n",
            "Epoch 138/200\n",
            "38/38 [==============================] - 1s 14ms/step - loss: 0.0010\n",
            "Epoch 139/200\n",
            "38/38 [==============================] - 1s 13ms/step - loss: 0.0010\n",
            "Epoch 140/200\n",
            "38/38 [==============================] - 1s 13ms/step - loss: 9.1503e-04\n",
            "Epoch 141/200\n",
            "38/38 [==============================] - 0s 13ms/step - loss: 9.5378e-04\n",
            "Epoch 142/200\n",
            "38/38 [==============================] - 1s 13ms/step - loss: 0.0011\n",
            "Epoch 143/200\n",
            "38/38 [==============================] - 0s 13ms/step - loss: 8.8755e-04\n",
            "Epoch 144/200\n",
            "38/38 [==============================] - 1s 13ms/step - loss: 9.4587e-04\n",
            "Epoch 145/200\n",
            "38/38 [==============================] - 0s 13ms/step - loss: 9.2315e-04\n",
            "Epoch 146/200\n",
            "38/38 [==============================] - 1s 13ms/step - loss: 8.9994e-04\n",
            "Epoch 147/200\n",
            "38/38 [==============================] - 0s 13ms/step - loss: 9.2536e-04\n",
            "Epoch 148/200\n",
            "38/38 [==============================] - 0s 13ms/step - loss: 9.0197e-04\n",
            "Epoch 149/200\n",
            "38/38 [==============================] - 0s 13ms/step - loss: 0.0010\n",
            "Epoch 150/200\n",
            "38/38 [==============================] - 1s 14ms/step - loss: 9.2620e-04\n",
            "Epoch 151/200\n",
            "38/38 [==============================] - 0s 13ms/step - loss: 8.9021e-04\n",
            "Epoch 152/200\n",
            "38/38 [==============================] - 1s 13ms/step - loss: 9.3109e-04\n",
            "Epoch 153/200\n",
            "38/38 [==============================] - 1s 13ms/step - loss: 8.8213e-04\n",
            "Epoch 154/200\n",
            "38/38 [==============================] - 0s 13ms/step - loss: 9.6627e-04\n",
            "Epoch 155/200\n",
            "38/38 [==============================] - 1s 13ms/step - loss: 9.7003e-04\n",
            "Epoch 156/200\n",
            "38/38 [==============================] - 1s 14ms/step - loss: 9.2989e-04\n",
            "Epoch 157/200\n",
            "38/38 [==============================] - 0s 13ms/step - loss: 9.7032e-04\n",
            "Epoch 158/200\n",
            "38/38 [==============================] - 0s 13ms/step - loss: 9.6888e-04\n",
            "Epoch 159/200\n",
            "38/38 [==============================] - 0s 13ms/step - loss: 8.9981e-04\n",
            "Epoch 160/200\n",
            "38/38 [==============================] - 1s 13ms/step - loss: 0.0011\n",
            "Epoch 161/200\n",
            "38/38 [==============================] - 0s 13ms/step - loss: 9.0309e-04\n",
            "Epoch 162/200\n",
            "38/38 [==============================] - 1s 13ms/step - loss: 9.4034e-04\n",
            "Epoch 163/200\n",
            "38/38 [==============================] - 1s 13ms/step - loss: 8.4063e-04\n",
            "Epoch 164/200\n",
            "38/38 [==============================] - 1s 13ms/step - loss: 9.2038e-04\n",
            "Epoch 165/200\n",
            "38/38 [==============================] - 0s 13ms/step - loss: 9.9308e-04\n",
            "Epoch 166/200\n",
            "38/38 [==============================] - 1s 13ms/step - loss: 8.3874e-04\n",
            "Epoch 167/200\n",
            "38/38 [==============================] - 0s 13ms/step - loss: 8.8351e-04\n",
            "Epoch 168/200\n",
            "38/38 [==============================] - 1s 13ms/step - loss: 8.7811e-04\n",
            "Epoch 169/200\n",
            "38/38 [==============================] - 1s 13ms/step - loss: 8.8070e-04\n",
            "Epoch 170/200\n",
            "38/38 [==============================] - 1s 13ms/step - loss: 9.1998e-04\n",
            "Epoch 171/200\n",
            "38/38 [==============================] - 1s 13ms/step - loss: 9.3583e-04\n",
            "Epoch 172/200\n",
            "38/38 [==============================] - 1s 13ms/step - loss: 0.0010\n",
            "Epoch 173/200\n",
            "38/38 [==============================] - 0s 13ms/step - loss: 9.7754e-04\n",
            "Epoch 174/200\n",
            "38/38 [==============================] - 1s 13ms/step - loss: 8.7427e-04\n",
            "Epoch 175/200\n",
            "38/38 [==============================] - 0s 13ms/step - loss: 8.8263e-04\n",
            "Epoch 176/200\n",
            "38/38 [==============================] - 1s 13ms/step - loss: 8.5741e-04\n",
            "Epoch 177/200\n",
            "38/38 [==============================] - 1s 13ms/step - loss: 9.9238e-04\n",
            "Epoch 178/200\n",
            "38/38 [==============================] - 1s 14ms/step - loss: 9.6689e-04\n",
            "Epoch 179/200\n",
            "38/38 [==============================] - 0s 13ms/step - loss: 8.5937e-04\n",
            "Epoch 180/200\n",
            "38/38 [==============================] - 0s 13ms/step - loss: 9.6018e-04\n",
            "Epoch 181/200\n",
            "38/38 [==============================] - 1s 13ms/step - loss: 9.7248e-04\n",
            "Epoch 182/200\n",
            "38/38 [==============================] - 1s 13ms/step - loss: 8.7755e-04\n",
            "Epoch 183/200\n",
            "38/38 [==============================] - 1s 13ms/step - loss: 8.7493e-04\n",
            "Epoch 184/200\n",
            "38/38 [==============================] - 1s 13ms/step - loss: 8.2661e-04\n",
            "Epoch 185/200\n",
            "38/38 [==============================] - 0s 13ms/step - loss: 9.5545e-04\n",
            "Epoch 186/200\n",
            "38/38 [==============================] - 1s 13ms/step - loss: 8.5588e-04\n",
            "Epoch 187/200\n",
            "38/38 [==============================] - 0s 13ms/step - loss: 8.8589e-04\n",
            "Epoch 188/200\n",
            "38/38 [==============================] - 1s 13ms/step - loss: 8.4960e-04\n",
            "Epoch 189/200\n",
            "38/38 [==============================] - 0s 13ms/step - loss: 8.1966e-04\n",
            "Epoch 190/200\n",
            "38/38 [==============================] - 1s 14ms/step - loss: 9.6671e-04\n",
            "Epoch 191/200\n",
            "38/38 [==============================] - 1s 13ms/step - loss: 9.0272e-04\n",
            "Epoch 192/200\n",
            "38/38 [==============================] - 1s 14ms/step - loss: 9.6453e-04\n",
            "Epoch 193/200\n",
            "38/38 [==============================] - 0s 13ms/step - loss: 9.6161e-04\n",
            "Epoch 194/200\n",
            "38/38 [==============================] - 1s 14ms/step - loss: 0.0011\n",
            "Epoch 195/200\n",
            "38/38 [==============================] - 1s 13ms/step - loss: 0.0010\n",
            "Epoch 196/200\n",
            "38/38 [==============================] - 1s 13ms/step - loss: 8.7287e-04\n",
            "Epoch 197/200\n",
            "38/38 [==============================] - 1s 13ms/step - loss: 9.1720e-04\n",
            "Epoch 198/200\n",
            "38/38 [==============================] - 1s 13ms/step - loss: 9.9656e-04\n",
            "Epoch 199/200\n",
            "38/38 [==============================] - 0s 13ms/step - loss: 8.8379e-04\n",
            "Epoch 200/200\n",
            "38/38 [==============================] - 1s 14ms/step - loss: 9.0659e-04\n"
          ],
          "name": "stdout"
        },
        {
          "output_type": "execute_result",
          "data": {
            "text/plain": [
              "<tensorflow.python.keras.callbacks.History at 0x7f2f2ed30470>"
            ]
          },
          "metadata": {
            "tags": []
          },
          "execution_count": 33
        }
      ]
    },
    {
      "cell_type": "markdown",
      "metadata": {
        "id": "EFwWLbXbhHvG"
      },
      "source": [
        "## Part 3 - Making the predictions and visualizing the results"
      ]
    },
    {
      "cell_type": "code",
      "metadata": {
        "id": "EWMKzh_YfFgG"
      },
      "source": [
        "# Getting the real stock price of 2017\r\n",
        "dataset_test = pd.read_csv('Google_Stock_Price_Test.csv')\r\n",
        "real_stock_price = dataset_test.iloc[:, 1:2].values"
      ],
      "execution_count": null,
      "outputs": []
    },
    {
      "cell_type": "code",
      "metadata": {
        "id": "I-zrSnQXhQAL",
        "colab": {
          "base_uri": "https://localhost:8080/"
        },
        "outputId": "114745be-9054-43a9-b15b-988faaf2d99d"
      },
      "source": [
        "# Getting the predicted stock price of 2017\r\n",
        "dataset_total = pd.concat((dataset_train['Open'], dataset_test['Open']), axis = 0) #train跟test data串在一起(因為需要知道前一年是誰)\r\n",
        "inputs = dataset_total[(len(dataset_total)-len(dataset_test)-60) : (len(dataset_total)-len(dataset_test))].values\r\n",
        "#總共的長度(屁股)-test的長度(屁股)=train的長度(屁股) 取總資料集[訓練長度開頭(-60)~訓練長度(屁股)]的值\r\n",
        "inputs = inputs.reshape(-1,1) #轉換成Nx1的資料\r\n",
        "print(inputs.shape)\r\n",
        "\r\n",
        "inputs = sc.transform(inputs) #sc是scale的function\r\n",
        "X_test = inputs[0:60, 0] #抓test資料\r\n",
        "predicted_stock_price = []\r\n",
        "for i in range(0, 20):\r\n",
        "    p = regressor.predict(X_test.reshape(1, -1, 1))\r\n",
        "    predicted_stock_price.append(p)\r\n",
        "    X_test = np.roll(X_test, -1) # X_test = np.roll(X_test, ???) \r\n",
        "    #排序test: (0~9)改成(1~9,0)=>新的(1~10)\r\n",
        "    X_test[-1] = p # X_test[???] = p\r\n",
        "    #最後一個0的值再用p(預測)取代掉=新的(0~9)\r\n",
        "\r\n",
        "predicted_stock_price = np.reshape(predicted_stock_price, (-1, 1)) #先做預測\r\n",
        "predicted_stock_price = sc.inverse_transform(predicted_stock_price) #再inverse預測"
      ],
      "execution_count": null,
      "outputs": [
        {
          "output_type": "stream",
          "text": [
            "(60, 1)\n"
          ],
          "name": "stdout"
        }
      ]
    },
    {
      "cell_type": "code",
      "metadata": {
        "colab": {
          "base_uri": "https://localhost:8080/",
          "height": 295
        },
        "id": "9ebqVFA0Mt0e",
        "outputId": "a7a8c4b3-ebce-4c0f-9be8-9a16a8f62602"
      },
      "source": [
        "# Visualising the results\r\n",
        "plt.plot(real_stock_price, color = 'red', label = 'Real Google Stock Price')\r\n",
        "plt.plot(predicted_stock_price, color = 'blue', label = 'Predicted Google Stock Price')\r\n",
        "plt.title('Google Stock Price Prediction')\r\n",
        "plt.xlabel('Time')\r\n",
        "plt.ylabel('Google Stock Price')\r\n",
        "plt.legend()\r\n",
        "plt.show()"
      ],
      "execution_count": null,
      "outputs": [
        {
          "output_type": "display_data",
          "data": {
            "image/png": "[encoded data removed]",
            "text/plain": [
              "<Figure size 432x288 with 1 Axes>"
            ]
          },
          "metadata": {
            "tags": [],
            "needs_background": "light"
          }
        }
      ]
    },
    {
      "cell_type": "markdown",
      "metadata": {
        "id": "FNum3bv9dneQ"
      },
      "source": [
        "### 錯的"
      ]
    },
    {
      "cell_type": "code",
      "metadata": {
        "id": "ieRBbiuyhLA9"
      },
      "source": [
        "# Getting the predicted stock price of 2017\r\n",
        "# Is it correct?\r\n",
        "dataset_total = pd.concat((dataset_train['Open'], dataset_test['Open']), axis = 0) #train跟test data串在一起(因為需要知道前一年是誰)\r\n",
        "inputs = dataset_total[len(dataset_total) - len(dataset_test) - 60:].values #總共的長度-test的長度=train的長度\r\n",
        "inputs = inputs.reshape(-1,1)\r\n",
        "inputs = sc.transform(inputs) #sc是scale的function(歸一化)\r\n",
        "X_test = []\r\n",
        "###############這段是錯的###############\r\n",
        "for i in range(60, 80):\r\n",
        "    X_test.append(inputs[i-60:i, 0])\r\n",
        "X_test = np.array(X_test)\r\n",
        "X_test = np.reshape(X_test, (X_test.shape[0], X_test.shape[1], 1))\r\n",
        "########################################\r\n",
        "predicted_stock_price = regressor.predict(X_test) #先做預測\r\n",
        "predicted_stock_price = sc.inverse_transform(predicted_stock_price) #再inverse預測"
      ],
      "execution_count": null,
      "outputs": []
    },
    {
      "cell_type": "code",
      "metadata": {
        "colab": {
          "base_uri": "https://localhost:8080/",
          "height": 295
        },
        "id": "vhHERz0ThNX9",
        "outputId": "d31e1a94-3f90-4096-a777-1df849530f9c"
      },
      "source": [
        "# Visualising the results\r\n",
        "plt.plot(real_stock_price, color = 'red', label = 'Real Google Stock Price')\r\n",
        "plt.plot(predicted_stock_price, color = 'blue', label = 'Predicted Google Stock Price')\r\n",
        "plt.title('Google Stock Price Prediction')\r\n",
        "plt.xlabel('Time')\r\n",
        "plt.ylabel('Google Stock Price')\r\n",
        "plt.legend()\r\n",
        "plt.show()"
      ],
      "execution_count": null,
      "outputs": [
        {
          "output_type": "display_data",
          "data": {
            "image/png": "[encoded data removed]",
            "text/plain": [
              "<Figure size 432x288 with 1 Axes>"
            ]
          },
          "metadata": {
            "tags": [],
            "needs_background": "light"
          }
        }
      ]
    },
    {
      "cell_type": "code",
      "metadata": {
        "id": "vNhmKITUkFBq"
      },
      "source": [
        ""
      ],
      "execution_count": null,
      "outputs": []
    }
  ]
}